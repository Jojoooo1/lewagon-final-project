{
  "cells": [
    {
      "cell_type": "markdown",
      "metadata": {
        "id": "inBFwoQZJJZF"
      },
      "source": [
        "#### Your objective is to classify fMRI brain images taken while listening to music in five different genres: label 0=Ambient Music, 1=Country Music, 2=Heavy Metal, 3=Rock 'n Roll, 4=Classical Symphonic. The data consists of train_data.csv, train_labels.csv, and test_data.csv, for a one-person subset of a larger 20-subject study, linked above.\n",
        "\n",
        "#### The training data (train_data.csv) consist of 160 event-related brain images (trials), corresponding to twenty 6-second music clips, four clips in each of the five genres, repeated in-order eight times (runs). The labels (train_labels.csv) correspond to the correct musical genres, listed above, for each of the 160 trials.\n",
        "\n",
        "#### There are 22036 features in each brain image, corresponding to blood-oxygenation levels at each 2mm-cubed 3D location within a section of the auditory cortex. In human brain imaging, there are often many more features (brain sites) than samples (trials), thus making the task a relatively challenging multiway classification problem.\n",
        "\n",
        "#### The testing data (test_data.csv) consists of 40 event-related brain images corresponding to novel 6-second music clips in the five genres. The test data is in randomized order with no labels. You must predict, using only the given brain images, the correct genre labels (0-4) for the 40 test trials.\n"
      ]
    },
    {
      "cell_type": "markdown",
      "metadata": {
        "id": "25QjbIJtflqc"
      },
      "source": [
        "# Final Project\n",
        "\n",
        "# \"Classifying The Brain on Music\"\n",
        "\n",
        "Michael Casey, https://www.frontiersin.org/journals/psychology/articles/10.3389/fpsyg.2017.01179/full\n"
      ]
    },
    {
      "cell_type": "markdown",
      "metadata": {
        "id": "eBkfTOxuWxUY"
      },
      "source": [
        "## **1. Multi-Class Genre Classifier** [[12 points]](https://)\n",
        "\n",
        "#### Build a multi-class classifier for the 5 music genres. Your goal is to train a model to classify brain images into corresponding genre categories. You are free to choose any machine learning models from the class.\n",
        "\n",
        "#### **1-1. Hyper-parameter Search.** [[4 points]](https://) Demonstrate your hyperparameter search process using cross-validation. Provide details for at least one hyperparameter with 10 different possible values.\n",
        "\n",
        "#### **1-2. Model Training and Testing.** [[4 points]](https://) Following the hyperparameter search, train your model with the best combination of hyperparameters. Run the model on the test set and submit the results to the Kaggle competition. To get full marks, your model should outperform the baseline model, which is provided in Kaggle. You **must** show your test accuracy computed by Kaggle in this report.\n",
        "\n",
        "#### **1-3. Model Analysis.** [[4 points]](https://) Conduct a thorough analysis of your model, including:\n",
        "\n",
        "#### **1-3-1. Confusion Matrix:** Split the training set into train/validation sets. The data is organized into eight runs, in order, with each run repeating the same 20 music trials. You should split the data by run. Retrain your model using the best hyperparameter combination. Present the confusion matrix on the validation set.\n",
        "\n",
        "#### **1-3-2. Example Examination:** Examine four validation samples where your model fails to classify into the correct category. Display the true label and the predicted label. Looking at the confusion matrix, how might you explain your results from the perspectives of human brain data and music genre similarity?\n"
      ]
    },
    {
      "cell_type": "markdown",
      "metadata": {
        "id": "vA9cw0emNkjC"
      },
      "source": [
        "---\n",
        "\n",
        "## **A. Data Download**\n",
        "\n",
        "#### For your convenience, we have provided code to download the dataset, which includes true labels, training data (features), training labels, and testing data (features).\n"
      ]
    },
    {
      "cell_type": "markdown",
      "metadata": {
        "id": "iBfZLkUrZ9Xx"
      },
      "source": [
        "#### **A-1. Download Features and Labels.**\n",
        "\n",
        "#### Run the following code to download the brain features and labels of the music clips.\n"
      ]
    },
    {
      "cell_type": "code",
      "execution_count": null,
      "metadata": {
        "id": "tvMqDITgzRW2"
      },
      "outputs": [],
      "source": [
        "import numpy as np\n",
        "!pip install gdown"
      ]
    },
    {
      "cell_type": "code",
      "execution_count": null,
      "metadata": {
        "id": "OjIWRNJzodXk"
      },
      "outputs": [],
      "source": [
        "!gdown --id 1aFDPryEDcT5wg0k8NhWYpF8lulGmot5J # train data\n",
        "!gdown --id 11kgAdB_hkEcC4npCEWJcAOOmGe3495yY # train labels\n",
        "!gdown --id 1wXq56F6RIUtDzPceZegZAMA-JGW21Gqu # test data"
      ]
    },
    {
      "cell_type": "code",
      "execution_count": 2,
      "metadata": {
        "id": "FA1IkzqxNFw7",
        "scrolled": false
      },
      "outputs": [
        {
          "name": "stdout",
          "output_type": "stream",
          "text": [
            "train_data.shape: (160, 22036)\n",
            "train_labels.shape: (160, 1)\n",
            "test_data.shape: (40, 22036)\n"
          ]
        }
      ],
      "source": [
        "# Data Import Method 1, with pandas\n",
        "import pandas as pd\n",
        "\n",
        "train_data = pd.read_csv(\"../train_data.csv\", header=None)\n",
        "train_labels = pd.read_csv(\"../train_labels.csv\", header=None)\n",
        "test_data = pd.read_csv(\"../test_data.csv\", header=None)\n",
        "\n",
        "print('train_data.shape: {}'.format(train_data.shape))\n",
        "print('train_labels.shape: {}'.format(train_labels.shape))\n",
        "print('test_data.shape: {}'.format(test_data.shape))"
      ]
    },
    {
      "cell_type": "markdown",
      "metadata": {},
      "source": [
        "#### Data exploration\n"
      ]
    },
    {
      "cell_type": "code",
      "execution_count": null,
      "metadata": {},
      "outputs": [],
      "source": [
        "print(\"\\nFirst few rows of the dataset:\\n\")\n",
        "train_data.head(2)"
      ]
    },
    {
      "cell_type": "code",
      "execution_count": null,
      "metadata": {},
      "outputs": [],
      "source": [
        "print(\"\\nDescriptive statistics for numerical columns:\\n\")\n",
        "train_data.describe()"
      ]
    },
    {
      "cell_type": "code",
      "execution_count": null,
      "metadata": {},
      "outputs": [],
      "source": [
        "print(\"\\nInformation about the dataset:\\n\")\n",
        "print(train_data.info())\n",
        "\n",
        "print(\"\\nShape of the dataset (rows, columns):\\n\")\n",
        "print(train_data.shape)\n",
        "\n",
        "print(\"\\nData types of each column:\\n\")\n",
        "print(train_data.dtypes)\n",
        "\n",
        "# print(df['categorical_column'].value_counts())\n",
        "\n",
        "print(\"\\nNumber of missing values in each column:\\n\")\n",
        "print(train_data.isnull().sum())"
      ]
    },
    {
      "cell_type": "markdown",
      "metadata": {},
      "source": [
        "#### Step 1: Split the data into training\n"
      ]
    },
    {
      "cell_type": "code",
      "execution_count": 4,
      "metadata": {},
      "outputs": [],
      "source": [
        "from sklearn.model_selection import train_test_split\n",
        "\n",
        "X_train, X_test, y_train, y_test = train_test_split(train_data, train_labels, test_size=0.3, random_state=0) # 70% to train"
      ]
    },
    {
      "cell_type": "markdown",
      "metadata": {},
      "source": [
        "#### Step 2: Normalize the features using StandardScaler\n"
      ]
    },
    {
      "cell_type": "code",
      "execution_count": 79,
      "metadata": {},
      "outputs": [],
      "source": [
        "from sklearn.preprocessing import StandardScaler\n",
        "\n",
        "# Seems to decrease accuracy.\n",
        "\n",
        "scaler = StandardScaler()\n",
        "X_train_scaled = scaler.fit_transform(X_train)\n",
        "X_test_scaled = scaler.transform(X_test)"
      ]
    },
    {
      "cell_type": "markdown",
      "metadata": {},
      "source": [
        "#### Step 3: One-hot encode the target variable\n"
      ]
    },
    {
      "cell_type": "code",
      "execution_count": 78,
      "metadata": {},
      "outputs": [],
      "source": [
        "from sklearn.preprocessing import StandardScaler, OneHotEncoder\n",
        "\n",
        "encoder = OneHotEncoder(sparse_output=False)\n",
        "y_train_scaled = encoder.fit_transform(y_train.values.reshape(-1, 1))\n",
        "y_test_scaled = encoder.transform(y_test.values.reshape(-1, 1))"
      ]
    },
    {
      "cell_type": "markdown",
      "metadata": {},
      "source": [
        "#### Step 4: Tests various model parameters\n"
      ]
    },
    {
      "cell_type": "markdown",
      "metadata": {},
      "source": [
        "#### RandomForestClassifier\n"
      ]
    },
    {
      "cell_type": "code",
      "execution_count": 17,
      "metadata": {},
      "outputs": [
        {
          "name": "stdout",
          "output_type": "stream",
          "text": [
            "Random Forest Classifier Accuracy: 0.599 (+/- 0.069)\n"
          ]
        }
      ],
      "source": [
        "from sklearn.ensemble import RandomForestClassifier, RandomForestRegressor\n",
        "from sklearn.model_selection import cross_val_score\n",
        "\n",
        "# For classification\n",
        "rf_clf = RandomForestClassifier(n_estimators=100, random_state=42)\n",
        "scores = cross_val_score(rf_clf, X_train, y_train[0].tolist(), cv=5, scoring='accuracy')\n",
        "print(f\"Random Forest Classifier Accuracy: {scores.mean():.3f} (+/- {scores.std():.3f})\")"
      ]
    },
    {
      "cell_type": "markdown",
      "metadata": {},
      "source": [
        "#### KNeighborsClassifier\n"
      ]
    },
    {
      "cell_type": "code",
      "execution_count": 65,
      "metadata": {},
      "outputs": [
        {
          "name": "stdout",
          "output_type": "stream",
          "text": [
            "Random Forest Classifier Accuracy: 0.393 (+/- 0.093)\n"
          ]
        }
      ],
      "source": [
        "from sklearn.neighbors import KNeighborsClassifier\n",
        "from sklearn.model_selection import cross_val_score\n",
        "\n",
        "# For classificatio\n",
        "kn_clf = KNeighborsClassifier()\n",
        "scores = cross_val_score(kn_clf, X_train, y_train[0].tolist(), cv=5, scoring='accuracy')\n",
        "print(f\"KNeighborsClassifier Accuracy: {scores.mean():.3f} (+/- {scores.std():.3f})\")"
      ]
    },
    {
      "cell_type": "markdown",
      "metadata": {},
      "source": [
        "#### LogisticRegression\n"
      ]
    },
    {
      "cell_type": "code",
      "execution_count": 18,
      "metadata": {},
      "outputs": [
        {
          "name": "stdout",
          "output_type": "stream",
          "text": [
            "Logistic Regression Accuracy: 0.678 (+/- 0.078)\n"
          ]
        }
      ],
      "source": [
        "from sklearn.linear_model import LogisticRegression\n",
        "from sklearn.model_selection import cross_val_score\n",
        "\n",
        "lr = LogisticRegression(max_iter=1000)\n",
        "scores = cross_val_score(lr, X_train, y_train[0].tolist(), cv=5, scoring='accuracy')\n",
        "print(f\"Logistic Regression Accuracy: {scores.mean():.3f} (+/- {scores.std():.3f})\")"
      ]
    },
    {
      "cell_type": "code",
      "execution_count": 19,
      "metadata": {},
      "outputs": [
        {
          "name": "stdout",
          "output_type": "stream",
          "text": [
            "Logistic Regression on PCA data Accuracy: 0.750 (+/- 0.098)\n"
          ]
        }
      ],
      "source": [
        "from sklearn.decomposition import PCA\n",
        "\n",
        "pca = PCA(n_components=80)\n",
        "X_train_pca = pca.fit_transform(X_train)\n",
        "\n",
        "lr = LogisticRegression(max_iter=1000)\n",
        "scores = cross_val_score(lr, X_train_pca, y_train[0].tolist(), cv=5, scoring='accuracy')\n",
        "print(f\"Logistic Regression on PCA data Accuracy: {scores.mean():.3f} (+/- {scores.std():.3f})\")"
      ]
    },
    {
      "cell_type": "markdown",
      "metadata": {},
      "source": [
        "#### SVC\n"
      ]
    },
    {
      "cell_type": "code",
      "execution_count": 7,
      "metadata": {},
      "outputs": [
        {
          "name": "stdout",
          "output_type": "stream",
          "text": [
            "SVC Accuracy: 0.642 (+/- 0.114)\n"
          ]
        }
      ],
      "source": [
        "from sklearn.svm import SVC\n",
        "\n",
        "svc = SVC(kernel='linear', decision_function_shape='ovr')\n",
        "scores = cross_val_score(svc, X_train, y_train[0].tolist(), cv=5, scoring='accuracy')\n",
        "print(f\"SVC Accuracy: {scores.mean():.3f} (+/- {scores.std():.3f})\")"
      ]
    },
    {
      "cell_type": "code",
      "execution_count": 22,
      "metadata": {},
      "outputs": [
        {
          "name": "stdout",
          "output_type": "stream",
          "text": [
            "SVC Accuracy on PCA data: 0.688 (+/- 0.061)\n"
          ]
        }
      ],
      "source": [
        "pca = PCA(n_components=80)\n",
        "X_train_pca = pca.fit_transform(X_train)\n",
        "\n",
        "svc = SVC(kernel='linear', decision_function_shape='ovr')\n",
        "scores = cross_val_score(svc, X_train_pca, y_train[0].tolist(), cv=5, scoring='accuracy')\n",
        "print(f\"SVC Accuracy on PCA data: {scores.mean():.3f} (+/- {scores.std():.3f})\")"
      ]
    },
    {
      "cell_type": "markdown",
      "metadata": {},
      "source": [
        "#### DecisionTreeClassifier\n"
      ]
    },
    {
      "cell_type": "code",
      "execution_count": 8,
      "metadata": {},
      "outputs": [
        {
          "name": "stdout",
          "output_type": "stream",
          "text": [
            "DecisionTreeClassifier Accuracy: 0.562 (+/- 0.064)\n"
          ]
        }
      ],
      "source": [
        "from sklearn.tree import DecisionTreeClassifier\n",
        "\n",
        "lr = DecisionTreeClassifier()\n",
        "scores = cross_val_score(lr, X_train, y_train[0].tolist(), cv=5, scoring='accuracy')\n",
        "print(f\"DecisionTreeClassifier Accuracy: {scores.mean():.3f} (+/- {scores.std():.3f})\")"
      ]
    },
    {
      "cell_type": "markdown",
      "metadata": {},
      "source": [
        "#### GaussianNB"
      ]
    },
    {
      "cell_type": "code",
      "execution_count": 9,
      "metadata": {},
      "outputs": [
        {
          "name": "stdout",
          "output_type": "stream",
          "text": [
            "GaussianNB Accuracy: 0.455 (+/- 0.055)\n"
          ]
        }
      ],
      "source": [
        "from sklearn.naive_bayes import GaussianNB\n",
        "\n",
        "svc = GaussianNB()\n",
        "scores = cross_val_score(svc, X_train, y_train[0].tolist(), cv=5, scoring='accuracy')\n",
        "print(f\"GaussianNB Accuracy: {scores.mean():.3f} (+/- {scores.std():.3f})\")"
      ]
    }
  ],
  "metadata": {
    "colab": {
      "machine_shape": "hm",
      "provenance": []
    },
    "kernelspec": {
      "display_name": "Python 3 (ipykernel)",
      "language": "python",
      "name": "python3"
    },
    "language_info": {
      "codemirror_mode": {
        "name": "ipython",
        "version": 3
      },
      "file_extension": ".py",
      "mimetype": "text/x-python",
      "name": "python",
      "nbconvert_exporter": "python",
      "pygments_lexer": "ipython3",
      "version": "3.12.2"
    }
  },
  "nbformat": 4,
  "nbformat_minor": 0
}
